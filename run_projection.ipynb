{
 "cells": [
  {
   "attachments": {},
   "cell_type": "markdown",
   "id": "eb078c07-fa57-4cd1-92a9-0fb8dd273ca9",
   "metadata": {},
   "source": [
    "## Setup and Input"
   ]
  },
  {
   "cell_type": "code",
   "execution_count": 1,
   "id": "2bda4040-9b62-49df-9179-61bfd83b2eef",
   "metadata": {},
   "outputs": [],
   "source": [
    "from tqdm import tqdm\n",
    "from base import *\n",
    "from compute import *\n",
    "from memory import *\n",
    "from run_projection import *\n",
    "\n",
    "\n",
    "device_list = [\"IntelGaudi2\"]\n",
    "device_type_list = [\"C\"]\n",
    "dtype_list = [\"BF16\"]\n",
    "batchsize_list = [1, 2, 4, 8, 16, 32, 64, 128, 256, 512]  # 129\n",
    "context_list = [{\"in\": 128, \"out\": 2048}]\n",
    "# context_list = [{\"in\": 128, \"out\": 128}, {\"in\": 1024, \"out\": 1024}, {\n",
    "#     \"in\": 1, \"out\": 2048}, {\"in\": 32000, \"out\": 512}]"
   ]
  },
  {
   "attachments": {},
   "cell_type": "markdown",
   "id": "9c8126f1-a6e3-4135-85e8-cb11611ca8ca",
   "metadata": {},
   "source": [
    "## Compute Projection"
   ]
  },
  {
   "cell_type": "markdown",
   "id": "4433fa09-a11c-4184-911a-908fc98b8bd0",
   "metadata": {},
   "source": [
    "### Prefill / Decode (Plot / Perf Table / Bound Analysis)"
   ]
  },
  {
   "cell_type": "markdown",
   "id": "c50ec59a-19b4-4f1c-a308-bb870b7ac2c9",
   "metadata": {},
   "source": [
    "#### Llama2-7B"
   ]
  },
  {
   "cell_type": "code",
   "execution_count": 2,
   "id": "e82bfd07-acea-43c5-83bc-305d3efc5d3f",
   "metadata": {},
   "outputs": [
    {
     "name": "stdout",
     "output_type": "stream",
     "text": [
      "projection prefill with dtype[BF16], device [IntelGaudi2] with seq_len: [{'in': 128, 'out': 2048}] and bs [1, 2, 4, 8, 16, 32, 64, 128, 256, 512]...\n"
     ]
    },
    {
     "name": "stderr",
     "output_type": "stream",
     "text": [
      "100%|█| 10/10 [00:00<00:00\n"
     ]
    },
    {
     "name": "stdout",
     "output_type": "stream",
     "text": [
      "done!\n",
      "\n",
      "projection decoding with dtype[BF16], device [IntelGaudi2] with seq_len: [{'in': 128, 'out': 2048}] and bs [1, 2, 4, 8, 16, 32, 64, 128, 256, 512]...\n"
     ]
    },
    {
     "name": "stderr",
     "output_type": "stream",
     "text": [
      "100%|█| 10/10 [00:00<00:00"
     ]
    },
    {
     "name": "stdout",
     "output_type": "stream",
     "text": [
      "done!\n",
      "                                                          Llama2-7B_decode_whole_prokection                                                           \n",
      "------------  ----------  ------  -------  ---------  --------  -------  ------  ---  ----  -----  ---  -------------  ----------  ----------------------\n",
      "Device        HiddenSize  HeadsQ  HeadsKV  InterSize  Decoding  Experts  Layers  In   Out   DType  BS   KVCacheBucket  Latency(s)  Throughput(tokens/sec)\n",
      "IntelGaudi2C  4096        32      32       11008      True      1        32      128  2048  BF16   1    True           0.01        135.2\n",
      "IntelGaudi2C  4096        32      32       11008      True      1        32      128  2048  BF16   2    True           0.01        250.23\n",
      "IntelGaudi2C  4096        32      32       11008      True      1        32      128  2048  BF16   4    True           0.01        435.49\n",
      "IntelGaudi2C  4096        32      32       11008      True      1        32      128  2048  BF16   8    True           0.01        691.43\n",
      "IntelGaudi2C  4096        32      32       11008      True      1        32      128  2048  BF16   16   True           0.02        979.18\n",
      "IntelGaudi2C  4096        32      32       11008      True      1        32      128  2048  BF16   32   True           0.03        1236.46\n",
      "IntelGaudi2C  4096        32      32       11008      True      1        32      128  2048  BF16   64   True           0.04        1423.47\n",
      "IntelGaudi2C  4096        32      32       11008      True      1        32      128  2048  BF16   128  True           0.08        1539.93\n",
      "IntelGaudi2C  4096        32      32       11008      True      1        32      128  2048  BF16   256  True           0.17        1543.86\n",
      "IntelGaudi2C  4096        32      32       11008      True      1        32      128  2048  BF16   512  True           0.33        1545.29\n",
      "------------  ----------  ------  -------  ---------  --------  -------  ------  ---  ----  -----  ---  -------------  ----------  ----------------------\n",
      "\n",
      "\n",
      "                                                        Llama2-7B_decode_attn(bmm)_projection                                                         \n",
      "------------  -----  ---  ------  -------  -------  -------  -------------  --------  ------  --------  ----------  -----------  ------------------  ------\n",
      "Device        DType  BS   HeadsQ  HeadsKV  SeqLenQ  HeadDim  Ops(QK+SV)(M)  Size(MB)  TFLOPs  BW(TB/s)  Memory(us)  Compute(us)  ProjectLatency(us)  Bound\n",
      "IntelGaudi2C  BF16   1    32      32       1        128      34.0           34.28     2.19    1.5       23.95       16.25        23.95               memory\n",
      "IntelGaudi2C  BF16   2    32      32       1        128      68.0           68.56     2.19    1.5       47.91       32.5         47.91               memory\n",
      "IntelGaudi2C  BF16   4    32      32       1        128      136.0          137.12    2.19    1.5       95.82       65.01        95.82               memory\n",
      "IntelGaudi2C  BF16   8    32      32       1        128      272.0          274.25    2.19    1.5       191.64      130.01       191.64              memory\n",
      "IntelGaudi2C  BF16   16   32      32       1        128      544.0          548.5     2.19    1.5       383.28      260.02       383.28              memory\n",
      "IntelGaudi2C  BF16   32   32      32       1        128      1088.0         1097.0    2.19    1.5       766.55      520.05       766.55              memory\n",
      "IntelGaudi2C  BF16   64   32      32       1        128      2176.0         2194.0    2.19    1.5       1533.1      1040.09      1533.1              memory\n",
      "IntelGaudi2C  BF16   128  32      32       1        128      4352.0         4388.0    2.19    1.5       3066.21     2080.18      3066.21             memory\n",
      "IntelGaudi2C  BF16   256  32      32       1        128      8704.0         8776.0    2.19    1.5       6132.42     4160.37      6132.42             memory\n",
      "IntelGaudi2C  BF16   512  32      32       1        128      17408.0        17552.0   2.19    1.5       12264.83    8320.73      12264.83            memory\n",
      "------------  -----  ---  ------  -------  -------  -------  -------------  --------  ------  --------  ----------  -----------  ------------------  ------ \n",
      "\n",
      "\n",
      "                                                        Llama2-7B_decode_ffn_up(mm)_projection                                                        \n",
      "------------  -----  ---  -------  ----------  ----------------  ----------  --------  ------  --------  ----------  -----------  ------------------  -------\n",
      "Device        DType  BS   SeqLenQ  HiddenSize  IntermediateSize  Ops(up)(M)  Size(MB)  TFLOPs  BW(TB/s)  Memory(us)  Compute(us)  ProjectLatency(us)  Bound\n",
      "IntelGaudi2C  BF16   1    1        4096        11008             86.0        86.03     2.19    2.46      36.67       41.11        47.36               compute\n",
      "IntelGaudi2C  BF16   2    1        4096        11008             172.0       86.06     4.39    2.46      36.68       41.11        47.37               compute\n",
      "IntelGaudi2C  BF16   4    1        4096        11008             344.0       86.12     8.78    2.46      36.71       41.11        47.39               compute\n",
      "IntelGaudi2C  BF16   8    1        4096        11008             688.0       86.23     17.55   2.46      36.76       41.11        47.44               compute\n",
      "IntelGaudi2C  BF16   16   1        4096        11008             1376.0      86.46     35.1    2.46      36.85       41.11        47.54               compute\n",
      "IntelGaudi2C  BF16   32   1        4096        11008             2752.0      86.92     70.2    2.46      37.05       41.11        47.74               compute\n",
      "IntelGaudi2C  BF16   64   1        4096        11008             5504.0      87.84     140.4   2.46      37.44       41.11        48.13               compute\n",
      "IntelGaudi2C  BF16   128  1        4096        11008             11008.0     89.69     280.8   2.46      38.23       41.11        48.92               compute\n",
      "IntelGaudi2C  BF16   256  1        4096        11008             22016.0     93.38     280.8   2.46      39.8        82.21        94.88               compute\n",
      "IntelGaudi2C  BF16   512  1        4096        11008             44032.0     100.75    280.8   2.46      42.94       164.43       187.64              compute\n",
      "------------  -----  ---  -------  ----------  ----------------  ----------  --------  ------  --------  ----------  -----------  ------------------  -------\n"
     ]
    },
    {
     "name": "stderr",
     "output_type": "stream",
     "text": [
      "\n"
     ]
    },
    {
     "data": {
      "text/plain": [
       "<Figure size 2000x1000 with 0 Axes>"
      ]
     },
     "metadata": {},
     "output_type": "display_data"
    }
   ],
   "source": [
    "model_name = \"Llama2-7B\"\n",
    "compute_analyzer(model_name, device_list, device_type_list, dtype_list, batchsize_list, context_list, False)"
   ]
  },
  {
   "cell_type": "markdown",
   "id": "57f7b8be-3d4c-48eb-91f4-74ee5dabdb8f",
   "metadata": {},
   "source": [
    "#### Mixtral-8x7B"
   ]
  },
  {
   "cell_type": "code",
   "execution_count": 3,
   "id": "dbed0efb-1cb7-40b4-9abf-5d0c9882b9d5",
   "metadata": {},
   "outputs": [
    {
     "name": "stdout",
     "output_type": "stream",
     "text": [
      "projection prefill with dtype[BF16], device [IntelGaudi2] with seq_len: [{'in': 128, 'out': 2048}] and bs [1, 2, 4, 8, 16, 32, 64, 128, 256, 512]...\n"
     ]
    },
    {
     "name": "stderr",
     "output_type": "stream",
     "text": [
      "100%|█| 10/10 [00:00<00:00\n"
     ]
    },
    {
     "name": "stdout",
     "output_type": "stream",
     "text": [
      "done!\n",
      "\n",
      "projection decoding with dtype[BF16], device [IntelGaudi2] with seq_len: [{'in': 128, 'out': 2048}] and bs [1, 2, 4, 8, 16, 32, 64, 128, 256, 512]...\n"
     ]
    },
    {
     "name": "stderr",
     "output_type": "stream",
     "text": [
      "100%|█| 10/10 [00:00<00:00"
     ]
    },
    {
     "name": "stdout",
     "output_type": "stream",
     "text": [
      "done!\n",
      "                                                         Mixtral-8x7B_decode_whole_prokection                                                         \n",
      "------------  ----------  ------  -------  ---------  --------  -------  ------  ---  ----  -----  ---  -------------  ----------  ----------------------\n",
      "Device        HiddenSize  HeadsQ  HeadsKV  InterSize  Decoding  Experts  Layers  In   Out   DType  BS   KVCacheBucket  Latency(s)  Throughput(tokens/sec)\n",
      "IntelGaudi2C  4096        32      8        14336      True      8        32      128  2048  BF16   1    True           0.05        19.99\n",
      "IntelGaudi2C  4096        32      8        14336      True      8        32      128  2048  BF16   2    True           0.05        39.65\n",
      "IntelGaudi2C  4096        32      8        14336      True      8        32      128  2048  BF16   4    True           0.05        78.01\n",
      "IntelGaudi2C  4096        32      8        14336      True      8        32      128  2048  BF16   8    True           0.05        151.1\n",
      "IntelGaudi2C  4096        32      8        14336      True      8        32      128  2048  BF16   16   True           0.06        284.29\n",
      "IntelGaudi2C  4096        32      8        14336      True      8        32      128  2048  BF16   32   True           0.06        508.32\n",
      "IntelGaudi2C  4096        32      8        14336      True      8        32      128  2048  BF16   64   True           0.08        838.85\n",
      "IntelGaudi2C  4096        32      8        14336      True      8        32      128  2048  BF16   128  True           0.1         1242.95\n",
      "IntelGaudi2C  4096        32      8        14336      True      8        32      128  2048  BF16   256  True           0.2         1261.89\n",
      "IntelGaudi2C  4096        32      8        14336      True      8        32      128  2048  BF16   512  True           0.4         1268.87\n",
      "------------  ----------  ------  -------  ---------  --------  -------  ------  ---  ----  -----  ---  -------------  ----------  ----------------------\n",
      "\n",
      "\n",
      "                                                       Mixtral-8x7B_decode_attn(bmm)_projection                                                       \n",
      "------------  -----  ---  ------  -------  -------  -------  -------------  --------  ------  --------  ----------  -----------  ------------------  -------\n",
      "Device        DType  BS   HeadsQ  HeadsKV  SeqLenQ  HeadDim  Ops(QK+SV)(M)  Size(MB)  TFLOPs  BW(TB/s)  Memory(us)  Compute(us)  ProjectLatency(us)  Bound\n",
      "IntelGaudi2C  BF16   1    32      8        1        128      34.0           8.78      2.19    1.5       6.14        16.25        16.25               compute\n",
      "IntelGaudi2C  BF16   2    32      8        1        128      68.0           17.56     2.19    1.5       12.27       32.5         32.5                compute\n",
      "IntelGaudi2C  BF16   4    32      8        1        128      136.0          35.12     2.19    1.5       24.54       65.01        65.01               compute\n",
      "IntelGaudi2C  BF16   8    32      8        1        128      272.0          70.25     2.19    1.5       49.09       130.01       130.01              compute\n",
      "IntelGaudi2C  BF16   16   32      8        1        128      544.0          140.5     2.19    1.5       98.18       260.02       260.02              compute\n",
      "IntelGaudi2C  BF16   32   32      8        1        128      1088.0         281.0     2.19    1.5       196.35      520.05       520.05              compute\n",
      "IntelGaudi2C  BF16   64   32      8        1        128      2176.0         562.0     2.19    1.5       392.71      1040.09      1040.09             compute\n",
      "IntelGaudi2C  BF16   128  32      8        1        128      4352.0         1124.0    2.19    1.5       785.42      2080.18      2080.18             compute\n",
      "IntelGaudi2C  BF16   256  32      8        1        128      8704.0         2248.0    2.19    1.5       1570.84     4160.37      4160.37             compute\n",
      "IntelGaudi2C  BF16   512  32      8        1        128      17408.0        4496.0    2.19    1.5       3141.68     8320.73      8320.73             compute\n",
      "------------  -----  ---  ------  -------  -------  -------  -------------  --------  ------  --------  ----------  -----------  ------------------  ------- \n",
      "\n",
      "\n",
      "                                                      Mixtral-8x7B_decode_ffn_up(mm)_projection                                                       \n",
      "------------  -----  ---  -------  ----------  ----------------  ----------  --------  ------  --------  ----------  -----------  ------------------  -------\n",
      "Device        DType  BS   SeqLenQ  HiddenSize  IntermediateSize  Ops(up)(M)  Size(MB)  TFLOPs  BW(TB/s)  Memory(us)  Compute(us)  ProjectLatency(us)  Bound\n",
      "IntelGaudi2C  BF16   1    1        4096        14336             112.0       112.04    2.19    2.46      47.76       53.53        61.67               compute\n",
      "IntelGaudi2C  BF16   2    1        4096        14336             224.0       112.07    4.39    2.46      47.77       53.53        61.69               compute\n",
      "IntelGaudi2C  BF16   4    1        4096        14336             448.0       112.14    8.78    2.46      47.8        53.53        61.72               compute\n",
      "IntelGaudi2C  BF16   8    1        4096        14336             896.0       112.28    17.55   2.46      47.86       53.53        61.78               compute\n",
      "IntelGaudi2C  BF16   16   1        4096        14336             1792.0      112.56    35.1    2.46      47.98       53.53        61.9                compute\n",
      "IntelGaudi2C  BF16   32   1        4096        14336             3584.0      113.12    70.2    2.46      48.22       53.53        62.14               compute\n",
      "IntelGaudi2C  BF16   64   1        4096        14336             7168.0      114.25    140.4   2.46      48.7        53.53        62.62               compute\n",
      "IntelGaudi2C  BF16   128  1        4096        14336             14336.0     116.5     280.8   2.46      49.66       53.53        63.58               compute\n",
      "IntelGaudi2C  BF16   256  1        4096        14336             28672.0     121.0     280.8   2.46      51.58       107.07       123.31              compute\n",
      "IntelGaudi2C  BF16   512  1        4096        14336             57344.0     130.0     280.8   2.46      55.41       214.14       243.85              compute\n",
      "------------  -----  ---  -------  ----------  ----------------  ----------  --------  ------  --------  ----------  -----------  ------------------  -------\n"
     ]
    },
    {
     "name": "stderr",
     "output_type": "stream",
     "text": [
      "\n"
     ]
    },
    {
     "data": {
      "text/plain": [
       "<Figure size 2000x1000 with 0 Axes>"
      ]
     },
     "metadata": {},
     "output_type": "display_data"
    }
   ],
   "source": [
    "model_name = \"Mixtral-8x7B\"\n",
    "compute_analyzer(model_name, device_list, device_type_list, dtype_list, batchsize_list, context_list, to_csv=False)"
   ]
  },
  {
   "cell_type": "markdown",
   "id": "8a96af8e-511f-408f-8ebc-c2c965ebcd8a",
   "metadata": {},
   "source": [
    "## Memory Projection"
   ]
  },
  {
   "cell_type": "code",
   "execution_count": 4,
   "id": "42ac56c9-464d-442b-90a8-c0e6f4f47831",
   "metadata": {},
   "outputs": [
    {
     "name": "stdout",
     "output_type": "stream",
     "text": [
      "memory usage with dtype[FP8], device [IntelGaudi2] with seq_len: [{'in': 2048, 'out': 4096}] and bs [1, 2, 4, 8, 16, 32, 64, 128, 256, 512]...\n",
      "\n"
     ]
    },
    {
     "name": "stderr",
     "output_type": "stream",
     "text": [
      "100%|█| 10/10 [00:00<00:00\n"
     ]
    },
    {
     "name": "stdout",
     "output_type": "stream",
     "text": [
      "done!\n",
      "\n",
      "memory usage with dtype[FP8], device [IntelGaudi2] with seq_len: [{'in': 2048, 'out': 4096}] and bs [1, 2, 4, 8, 16, 32, 64, 128, 256, 512]...\n",
      "\n"
     ]
    },
    {
     "name": "stderr",
     "output_type": "stream",
     "text": [
      "100%|█| 10/10 [00:00<00:00\n"
     ]
    },
    {
     "name": "stdout",
     "output_type": "stream",
     "text": [
      "done!\n",
      "\n",
      "memory usage with dtype[FP8], device [IntelGaudi2] with seq_len: [{'in': 2048, 'out': 4096}] and bs [1, 2, 4, 8, 16, 32, 64, 128, 256, 512]...\n",
      "\n"
     ]
    },
    {
     "name": "stderr",
     "output_type": "stream",
     "text": [
      "100%|█| 10/10 [00:00<00:00\n"
     ]
    },
    {
     "name": "stdout",
     "output_type": "stream",
     "text": [
      "done!\n",
      "\n",
      "memory usage with dtype[FP8], device [IntelGaudi2] with seq_len: [{'in': 2048, 'out': 4096}] and bs [1, 2, 4, 8, 16, 32, 64, 128, 256, 512]...\n",
      "\n"
     ]
    },
    {
     "name": "stderr",
     "output_type": "stream",
     "text": [
      "100%|█| 10/10 [00:00<00:00\n"
     ]
    },
    {
     "name": "stdout",
     "output_type": "stream",
     "text": [
      "done!\n",
      "\n",
      "memory usage with dtype[FP8], device [IntelGaudi2] with seq_len: [{'in': 2048, 'out': 4096}] and bs [1, 2, 4, 8, 16, 32, 64, 128, 256, 512]...\n",
      "\n"
     ]
    },
    {
     "name": "stderr",
     "output_type": "stream",
     "text": [
      "100%|█| 10/10 [00:00<00:00\n"
     ]
    },
    {
     "name": "stdout",
     "output_type": "stream",
     "text": [
      "done!\n",
      "\n",
      "memory usage with dtype[FP8], device [IntelGaudi2] with seq_len: [{'in': 2048, 'out': 4096}] and bs [1, 2, 4, 8, 16, 32, 64, 128, 256, 512]...\n",
      "\n"
     ]
    },
    {
     "name": "stderr",
     "output_type": "stream",
     "text": [
      "100%|█| 10/10 [00:00<00:00\n"
     ]
    },
    {
     "name": "stdout",
     "output_type": "stream",
     "text": [
      "done!\n",
      "\n",
      "memory usage with dtype[FP8], device [IntelGaudi2] with seq_len: [{'in': 2048, 'out': 4096}] and bs [1, 2, 4, 8, 16, 32, 64, 128, 256, 512]...\n",
      "\n"
     ]
    },
    {
     "name": "stderr",
     "output_type": "stream",
     "text": [
      "100%|█| 10/10 [00:00<00:00"
     ]
    },
    {
     "name": "stdout",
     "output_type": "stream",
     "text": [
      "done!\n",
      "\n",
      "------------  --  --  ----------  ------  ----  ----  -----  --  -----------  -----------  -----------  ---------  ----------\n",
      "Device        PP  TP  NumDevices  Layers  In    Out   DType  BS  Weights(GB)  KVcache(GB)  Activat(GB)  Total(GB)  Fit2Device\n",
      "IntelGaudi2C  1   16  16          32      2048  6144  FP8    1   0.38         0.0          0.05         0.42       True\n",
      "IntelGaudi2C  1   16  16          32      2048  6144  FP8    1   0.38         0.0          0.05         0.42       True\n",
      "IntelGaudi2C  1   16  16          32      2048  6144  FP8    1   0.38         0.0          0.05         0.42       True\n",
      "IntelGaudi2C  1   16  16          32      2048  6144  FP8    1   0.38         0.0          0.05         0.42       True\n",
      "IntelGaudi2C  1   16  16          32      2048  6144  FP8    1   0.38         0.0          0.05         0.42       True\n",
      "IntelGaudi2C  1   16  16          32      2048  6144  FP8    1   0.38         0.0          0.05         0.42       True\n",
      "IntelGaudi2C  1   16  16          32      2048  6144  FP8    1   0.38         0.0          0.05         0.42       True\n",
      "IntelGaudi2C  1   16  16          32      2048  6144  FP8    1   0.38         0.0          0.05         0.42       True\n",
      "IntelGaudi2C  1   16  16          32      2048  6144  FP8    1   0.38         0.0          0.05         0.42       True\n",
      "IntelGaudi2C  1   16  16          32      2048  6144  FP8    1   0.38         0.0          0.05         0.42       True\n",
      "------------  --  --  ----------  ------  ----  ----  -----  --  -----------  -----------  -----------  ---------  ----------\n",
      "\n",
      "\n"
     ]
    },
    {
     "name": "stderr",
     "output_type": "stream",
     "text": [
      "\n"
     ]
    }
   ],
   "source": [
    "model_name = \"Llama2-7B\"\n",
    "\n",
    "device_list = [\"IntelGaudi2\"]\n",
    "dtype_list = [\"BF16\"]\n",
    "batchsize_list = [1, 2, 4, 8, 16, 32, 64, 128, 256, 512]  # 129\n",
    "\n",
    "dtype_list = [\"FP8\"]  # [\"BF16\", \"FP8\"]\n",
    "pp_list = [1, 1, 1, 1, 1, 1, 1]\n",
    "tp_list = [16]  # [1, 2, 4, 8, 16]\n",
    "context_list = [{\"in\": 2048, \"out\": 4096}]\n",
    "# len_factor = 1024\n",
    "# input_list = [2*len_factor]\n",
    "# context_length_list = [pow(2, i) * len_factor for i in range(2, 6)]\n",
    "# for input in input_list:\n",
    "#     for context_len in context_length_list:\n",
    "#         output = context_len - input\n",
    "#         context_list.append({\"in\": input, \"out\": output})\n",
    "memory_analyzer(model_name, device_list, device_type_list, pp_list, tp_list, dtype_list, batchsize_list, context_list)"
   ]
  },
  {
   "cell_type": "code",
   "execution_count": null,
   "id": "a2748639-1037-428c-836f-6acb0620339d",
   "metadata": {},
   "outputs": [],
   "source": []
  }
 ],
 "metadata": {
  "kernelspec": {
   "display_name": "Python 3 (ipykernel)",
   "language": "python",
   "name": "python3"
  },
  "language_info": {
   "codemirror_mode": {
    "name": "ipython",
    "version": 3
   },
   "file_extension": ".py",
   "mimetype": "text/x-python",
   "name": "python",
   "nbconvert_exporter": "python",
   "pygments_lexer": "ipython3",
   "version": "3.10.12"
  }
 },
 "nbformat": 4,
 "nbformat_minor": 5
}
