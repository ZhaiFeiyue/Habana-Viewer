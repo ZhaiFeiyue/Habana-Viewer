{
 "cells": [
  {
   "attachments": {},
   "cell_type": "markdown",
   "id": "eb078c07-fa57-4cd1-92a9-0fb8dd273ca9",
   "metadata": {},
   "source": [
    "## Setup and Input"
   ]
  },
  {
   "cell_type": "code",
   "execution_count": 1,
   "id": "2bda4040-9b62-49df-9179-61bfd83b2eef",
   "metadata": {},
   "outputs": [],
   "source": [
    "from tqdm import tqdm\n",
    "from base import *\n",
    "from compute import *\n",
    "from memory import *\n",
    "from moe_projection import *\n",
    "\n",
    "\n",
    "hidden_size = 4096\n",
    "num_heads_q = 32\n",
    "num_heads_kv = 8\n",
    "intermediate_size = 14336\n",
    "mlp_with_gate = True\n",
    "num_experts = 8\n",
    "num_layers = 32\n",
    "\n",
    "device_list = [\"Gaudi2C\"]\n",
    "dtype_list = [\"bf16\", \"fp8\"]\n",
    "# in_out_token_list = [{\"in\": 128, \"out\": 128}, {\"in\": 1024, \"out\": 1024}, {\"in\": 1, \"out\": 2048}, {\"in\": 32000, \"out\": 512}]\n",
    "in_out_token_list = [{\"in\": 128, \"out\": 128}]\n",
    "batchsize_list = [1, 2, 4, 8, 16, 32, 64, 128, 256, 512]\n",
    "\n",
    "projection_dict = {\"prefill\": {}, \"decode\": {}}\n",
    "analysis_dict = {\"prefill\": [], \"decode\": []}"
   ]
  },
  {
   "attachments": {},
   "cell_type": "markdown",
   "id": "9c8126f1-a6e3-4135-85e8-cb11611ca8ca",
   "metadata": {},
   "source": [
    "## Prefill Projection"
   ]
  },
  {
   "cell_type": "code",
   "execution_count": 2,
   "id": "e82bfd07-acea-43c5-83bc-305d3efc5d3f",
   "metadata": {},
   "outputs": [
    {
     "name": "stdout",
     "output_type": "stream",
     "text": [
      "projection prefill with dtype[bf16], device [Gaudi2C] with seq_len: [{'in': 128, 'out': 128}] and bs [1, 2, 4, 8, 16, 32, 64, 128, 256, 512]...\n"
     ]
    },
    {
     "name": "stderr",
     "output_type": "stream",
     "text": [
      "100%|████████████████████████████████████████████████████████████████████████████████████████████████████| 10/10 [00:00<00:00, 27758.46it/s]\n"
     ]
    },
    {
     "name": "stdout",
     "output_type": "stream",
     "text": [
      "done!\n",
      "\n",
      "projection prefill with dtype[fp8], device [Gaudi2C] with seq_len: [{'in': 128, 'out': 128}] and bs [1, 2, 4, 8, 16, 32, 64, 128, 256, 512]...\n"
     ]
    },
    {
     "name": "stderr",
     "output_type": "stream",
     "text": [
      "100%|████████████████████████████████████████████████████████████████████████████████████████████████████| 10/10 [00:00<00:00, 29916.58it/s]"
     ]
    },
    {
     "name": "stdout",
     "output_type": "stream",
     "text": [
      "done!\n",
      "\n"
     ]
    },
    {
     "name": "stderr",
     "output_type": "stream",
     "text": [
      "\n"
     ]
    }
   ],
   "source": [
    "for device in device_list:\n",
    "    for dtype in dtype_list:\n",
    "        num_bytes = type2bytes[dtype]\n",
    "        bw = device_bw_tops[device][dtype][0]\n",
    "        tops = device_bw_tops[device][dtype][1]\n",
    "        tops_tpc = device_bw_tops[device][dtype][2]\n",
    "\n",
    "        # prefill\n",
    "        print(\n",
    "            f\"projection prefill with dtype[{dtype}], device [{device}] with seq_len: {in_out_token_list} and bs {batchsize_list}...\")\n",
    "        projection_dict[\"prefill\"][dtype] = []\n",
    "        prefill_projection = [cmp_item_list]\n",
    "        prefill_layer_analysis = dict()\n",
    "        for in_out in in_out_token_list:\n",
    "            for bs in tqdm(batchsize_list):\n",
    "                prefill_layer_analysis[bs] = [layer_analysis_list]\n",
    "                model_config = Config(batch_size=bs, seq_len_q=in_out[\"in\"], seq_len_kv=in_out[\"in\"], hidden_size=hidden_size, num_heads_q=num_heads_q,\n",
    "                                    num_heads_kv=num_heads_kv, intermediate_size=intermediate_size, is_decoding=False, num_bytes=num_bytes,\n",
    "                                    bw=bw, tops=tops, tops_tpc=tops_tpc, with_gate=mlp_with_gate, num_experts=num_experts, num_layers=num_layers)\n",
    "                runtime_decoder, single_layer_items = proj_decoder(\n",
    "                    model_config)\n",
    "                prefill_projection.append([device, model_config.hidden_size, model_config.num_heads_q, model_config.num_heads_kv,\n",
    "                                        model_config.intermediate_size, model_config.is_decoding, model_config.num_experts,\n",
    "                                        model_config.num_layers, in_out[\"in\"], in_out[\"out\"], dtype, bs, round(runtime_decoder, 2),\n",
    "                                        round(1/runtime_decoder * model_config.batch_size, 2)])\n",
    "                prefill_layer_analysis[bs].append(\n",
    "                    [in_out[\"in\"], in_out[\"out\"], dtype, bs, single_layer_items[\"qkvo\"][\"name\"], round(single_layer_items[\"qkvo\"][\"#ops\"]/1e9, 2),\n",
    "                    round(single_layer_items[\"qkvo\"][\"#mem\"]/1024/1024/1024,\n",
    "                        2), round(single_layer_items[\"qkvo\"][\"tops_roofline\"]/1e12, 2),\n",
    "                    round(single_layer_items[\"qkvo\"][\"math_ai\"], 2), single_layer_items[\"qkvo\"][\"bound\"]])\n",
    "                for item in single_layer_items[\"attn\"]:\n",
    "                    prefill_layer_analysis[bs].append(\n",
    "                        [in_out[\"in\"], in_out[\"out\"], dtype, bs, item[\"name\"], round(item[\"#ops\"]/1e9, 2), round(item[\"#mem\"]/1024/1024/1024, 2),\n",
    "                        round(item[\"tops_roofline\"]/1e12, 2), round(item[\"math_ai\"], 2), item[\"bound\"]])\n",
    "                for item in single_layer_items[\"moe\"]:\n",
    "                    prefill_layer_analysis[bs].append(\n",
    "                        [in_out[\"in\"], in_out[\"out\"], dtype, bs, item[\"name\"], round(item[\"#ops\"]/1e9, 2), round(item[\"#mem\"]/1024/1024/1024, 2),\n",
    "                        round(item[\"tops_roofline\"]/1e12, 2), round(item[\"math_ai\"], 2), item[\"bound\"]])\n",
    "        print(\"done!\\n\")\n",
    "        # print(tabulate(prefill_projection))\n",
    "        # for bs in batchsize_list:\n",
    "        #     print(tabulate(prefill_layer_analysis[bs]))\n",
    "        projection_dict[\"prefill\"][dtype].append(prefill_projection)\n",
    "        analysis_dict[\"prefill\"].append(prefill_layer_analysis)"
   ]
  },
  {
   "attachments": {},
   "cell_type": "markdown",
   "id": "e6ca6078-9c17-45d4-80dd-3e41385a884e",
   "metadata": {},
   "source": [
    "## Decode Projection"
   ]
  },
  {
   "cell_type": "code",
   "execution_count": 3,
   "id": "17ac5309-0a06-42cf-95e7-fd46498f914e",
   "metadata": {},
   "outputs": [
    {
     "name": "stdout",
     "output_type": "stream",
     "text": [
      "projection decoding with dtype[bf16], device [Gaudi2C] with seq_len: [{'in': 128, 'out': 128}] and bs [1, 2, 4, 8, 16, 32, 64, 128, 256, 512]...\n"
     ]
    },
    {
     "name": "stderr",
     "output_type": "stream",
     "text": [
      "100%|████████████████████████████████████████████████████████████████████████████████████████████████████| 10/10 [00:00<00:00, 29371.88it/s]\n"
     ]
    },
    {
     "name": "stdout",
     "output_type": "stream",
     "text": [
      "done!\n",
      "projection decoding with dtype[fp8], device [Gaudi2C] with seq_len: [{'in': 128, 'out': 128}] and bs [1, 2, 4, 8, 16, 32, 64, 128, 256, 512]...\n"
     ]
    },
    {
     "name": "stderr",
     "output_type": "stream",
     "text": [
      "100%|████████████████████████████████████████████████████████████████████████████████████████████████████| 10/10 [00:00<00:00, 30218.33it/s]"
     ]
    },
    {
     "name": "stdout",
     "output_type": "stream",
     "text": [
      "done!\n"
     ]
    },
    {
     "name": "stderr",
     "output_type": "stream",
     "text": [
      "\n"
     ]
    }
   ],
   "source": [
    "for device in device_list:\n",
    "    for dtype in dtype_list:\n",
    "        num_bytes = type2bytes[dtype]\n",
    "        bw = device_bw_tops[device][dtype][0]\n",
    "        tops = device_bw_tops[device][dtype][1]\n",
    "        tops_tpc = device_bw_tops[device][dtype][2]\n",
    "\n",
    "        # decode\n",
    "        print(\n",
    "            f\"projection decoding with dtype[{dtype}], device [{device}] with seq_len: {in_out_token_list} and bs {batchsize_list}...\")\n",
    "        projection_dict[\"decode\"][dtype] = []\n",
    "        decoding_projection = [cmp_item_list]\n",
    "        decoding_layer_analysis = dict()\n",
    "        for in_out in in_out_token_list:\n",
    "            for bs in tqdm(batchsize_list):\n",
    "                decoding_layer_analysis[bs] = [layer_analysis_list]\n",
    "                model_config = Config(batch_size=bs, seq_len_q=1, seq_len_kv=in_out[\"out\"], hidden_size=hidden_size, num_heads_q=num_heads_q,\n",
    "                                    num_heads_kv=num_heads_kv, intermediate_size=intermediate_size, is_decoding=True, num_bytes=num_bytes,\n",
    "                                    bw=bw, tops=tops, tops_tpc=tops_tpc, with_gate=mlp_with_gate, num_experts=num_experts, num_layers=num_layers)\n",
    "                runtime_decoder, single_layer_items = proj_decoder(\n",
    "                    model_config)\n",
    "                decoding_projection.append([device, model_config.hidden_size, model_config.num_heads_q, model_config.num_heads_kv,\n",
    "                                            model_config.intermediate_size, model_config.is_decoding, model_config.num_experts,\n",
    "                                            model_config.num_layers, in_out[\"in\"], in_out[\"out\"], dtype, bs, round(runtime_decoder, 2),\n",
    "                                            round(1/runtime_decoder * model_config.batch_size, 2)])\n",
    "                decoding_layer_analysis[bs].append(\n",
    "                    [in_out[\"in\"], in_out[\"out\"], dtype, bs, single_layer_items[\"qkvo\"][\"name\"], round(single_layer_items[\"qkvo\"][\"#ops\"]/1e9, 2),\n",
    "                    round(single_layer_items[\"qkvo\"][\"#mem\"]/1024/1024/1024,\n",
    "                        2), round(single_layer_items[\"qkvo\"][\"tops_roofline\"]/1e12, 2),\n",
    "                    round(single_layer_items[\"qkvo\"][\"math_ai\"], 2), single_layer_items[\"qkvo\"][\"bound\"]]\n",
    "                )\n",
    "                for item in single_layer_items[\"attn\"]:\n",
    "                    decoding_layer_analysis[bs].append(\n",
    "                        [in_out[\"in\"], in_out[\"out\"], dtype, bs, item[\"name\"], round(item[\"#ops\"]/1e9, 2), round(item[\"#mem\"]/1024/1024/1024, 2),\n",
    "                        round(item[\"tops_roofline\"]/1e12, 2), round(item[\"math_ai\"], 2), item[\"bound\"]])\n",
    "                for item in single_layer_items[\"moe\"]:\n",
    "                    decoding_layer_analysis[bs].append(\n",
    "                        [in_out[\"in\"], in_out[\"out\"], dtype, bs, item[\"name\"], round(item[\"#ops\"]/1e9, 2), round(item[\"#mem\"]/1024/1024/1024, 2),\n",
    "                        round(item[\"tops_roofline\"]/1e12, 2), round(item[\"math_ai\"], 2), item[\"bound\"]])\n",
    "        print(\"done!\")\n",
    "        # print(tabulate(decoding_projection))\n",
    "        # for bs in batchsize_list:\n",
    "        #     print(tabulate(decoding_layer_analysis[bs]))\n",
    "        projection_dict[\"decode\"][dtype].append(decoding_projection)\n",
    "        analysis_dict[\"decode\"].append(decoding_layer_analysis)"
   ]
  },
  {
   "attachments": {},
   "cell_type": "markdown",
   "id": "bc6fcd57-842a-485c-941b-c43910e89018",
   "metadata": {},
   "source": [
    "## Projection Result"
   ]
  },
  {
   "cell_type": "code",
   "execution_count": 4,
   "id": "af4ae18b-6bf4-43a8-9bc7-7b1296fd2d65",
   "metadata": {},
   "outputs": [
    {
     "data": {
      "image/png": "[encoded data removed]",
      "text/plain": [
       "<Figure size 2000x1000 with 1 Axes>"
      ]
     },
     "metadata": {},
     "output_type": "display_data"
    },
    {
     "name": "stdout",
     "output_type": "stream",
     "text": [
      "                                                             prefill                                                              \n",
      "-------  ----------  ------  -------  ---------  --------  -------  ------  ---  ---  -----  ---  ----------  ----------------------\n",
      "Device   HiddenSize  HeadsQ  HeadsKV  InterSize  Decoding  Experts  Layers  In   Out  DType  BS   Latency(s)  Throughput(tokens/sec)\n",
      "Gaudi2C  4096        32      8        14336      False     8        32      128  128  bf16   1    0.04        22.72\n",
      "Gaudi2C  4096        32      8        14336      False     8        32      128  128  bf16   2    0.08        23.67\n",
      "Gaudi2C  4096        32      8        14336      False     8        32      128  128  bf16   4    0.17        23.67\n",
      "Gaudi2C  4096        32      8        14336      False     8        32      128  128  bf16   8    0.34        23.67\n",
      "Gaudi2C  4096        32      8        14336      False     8        32      128  128  bf16   16   0.68        23.67\n",
      "Gaudi2C  4096        32      8        14336      False     8        32      128  128  bf16   32   1.35        23.67\n",
      "Gaudi2C  4096        32      8        14336      False     8        32      128  128  bf16   64   2.7         23.67\n",
      "Gaudi2C  4096        32      8        14336      False     8        32      128  128  bf16   128  5.41        23.67\n",
      "Gaudi2C  4096        32      8        14336      False     8        32      128  128  bf16   256  10.81       23.67\n",
      "Gaudi2C  4096        32      8        14336      False     8        32      128  128  bf16   512  21.63       23.67\n",
      "-------  ----------  ------  -------  ---------  --------  -------  ------  ---  ---  -----  ---  ----------  ----------------------\n",
      "                                                              decode                                                              \n",
      "-------  ----------  ------  -------  ---------  --------  -------  ------  ---  ---  -----  ---  ----------  ----------------------\n",
      "Device   HiddenSize  HeadsQ  HeadsKV  InterSize  Decoding  Experts  Layers  In   Out  DType  BS   Latency(s)  Throughput(tokens/sec)\n",
      "Gaudi2C  4096        32      8        14336      True      8        32      128  128  bf16   1    0.04        23.68\n",
      "Gaudi2C  4096        32      8        14336      True      8        32      128  128  bf16   2    0.04        47.35\n",
      "Gaudi2C  4096        32      8        14336      True      8        32      128  128  bf16   4    0.04        94.63\n",
      "Gaudi2C  4096        32      8        14336      True      8        32      128  128  bf16   8    0.04        188.87\n",
      "Gaudi2C  4096        32      8        14336      True      8        32      128  128  bf16   16   0.04        376.2\n",
      "Gaudi2C  4096        32      8        14336      True      8        32      128  128  bf16   32   0.04        746.28\n",
      "Gaudi2C  4096        32      8        14336      True      8        32      128  128  bf16   64   0.04        1468.7\n",
      "Gaudi2C  4096        32      8        14336      True      8        32      128  128  bf16   128  0.04        2846.41\n",
      "Gaudi2C  4096        32      8        14336      True      8        32      128  128  bf16   256  0.09        2963.64\n",
      "Gaudi2C  4096        32      8        14336      True      8        32      128  128  bf16   512  0.17        2963.64\n",
      "-------  ----------  ------  -------  ---------  --------  -------  ------  ---  ---  -----  ---  ----------  ----------------------\n",
      "\n",
      "\n",
      "\n",
      "                                                             prefill                                                              \n",
      "-------  ----------  ------  -------  ---------  --------  -------  ------  ---  ---  -----  ---  ----------  ----------------------\n",
      "Device   HiddenSize  HeadsQ  HeadsKV  InterSize  Decoding  Experts  Layers  In   Out  DType  BS   Latency(s)  Throughput(tokens/sec)\n",
      "Gaudi2C  4096        32      8        14336      False     8        32      128  128  fp8    1    0.02        45.44\n",
      "Gaudi2C  4096        32      8        14336      False     8        32      128  128  fp8    2    0.04        47.35\n",
      "Gaudi2C  4096        32      8        14336      False     8        32      128  128  fp8    4    0.08        47.35\n",
      "Gaudi2C  4096        32      8        14336      False     8        32      128  128  fp8    8    0.17        47.35\n",
      "Gaudi2C  4096        32      8        14336      False     8        32      128  128  fp8    16   0.34        47.35\n",
      "Gaudi2C  4096        32      8        14336      False     8        32      128  128  fp8    32   0.68        47.35\n",
      "Gaudi2C  4096        32      8        14336      False     8        32      128  128  fp8    64   1.35        47.35\n",
      "Gaudi2C  4096        32      8        14336      False     8        32      128  128  fp8    128  2.7         47.35\n",
      "Gaudi2C  4096        32      8        14336      False     8        32      128  128  fp8    256  5.41        47.35\n",
      "Gaudi2C  4096        32      8        14336      False     8        32      128  128  fp8    512  10.81       47.35\n",
      "-------  ----------  ------  -------  ---------  --------  -------  ------  ---  ---  -----  ---  ----------  ----------------------\n",
      "                                                              decode                                                              \n",
      "-------  ----------  ------  -------  ---------  --------  -------  ------  ---  ---  -----  ---  ----------  ----------------------\n",
      "Device   HiddenSize  HeadsQ  HeadsKV  InterSize  Decoding  Experts  Layers  In   Out  DType  BS   Latency(s)  Throughput(tokens/sec)\n",
      "Gaudi2C  4096        32      8        14336      True      8        32      128  128  fp8    1    0.02        47.36\n",
      "Gaudi2C  4096        32      8        14336      True      8        32      128  128  fp8    2    0.02        94.7\n",
      "Gaudi2C  4096        32      8        14336      True      8        32      128  128  fp8    4    0.02        189.26\n",
      "Gaudi2C  4096        32      8        14336      True      8        32      128  128  fp8    8    0.02        377.74\n",
      "Gaudi2C  4096        32      8        14336      True      8        32      128  128  fp8    16   0.02        752.39\n",
      "Gaudi2C  4096        32      8        14336      True      8        32      128  128  fp8    32   0.02        1492.56\n",
      "Gaudi2C  4096        32      8        14336      True      8        32      128  128  fp8    64   0.02        2937.41\n",
      "Gaudi2C  4096        32      8        14336      True      8        32      128  128  fp8    128  0.02        5692.82\n",
      "Gaudi2C  4096        32      8        14336      True      8        32      128  128  fp8    256  0.04        5927.28\n",
      "Gaudi2C  4096        32      8        14336      True      8        32      128  128  fp8    512  0.09        5927.28\n",
      "-------  ----------  ------  -------  ---------  --------  -------  ------  ---  ---  -----  ---  ----------  ----------------------\n",
      "\n",
      "\n",
      "\n"
     ]
    },
    {
     "data": {
      "text/plain": [
       "<Figure size 640x480 with 0 Axes>"
      ]
     },
     "metadata": {},
     "output_type": "display_data"
    }
   ],
   "source": [
    "plot_projection(projection_dict, batchsize_list)\n",
    "print_projection(projection_dict)"
   ]
  },
  {
   "attachments": {},
   "cell_type": "markdown",
   "id": "c49cc1cc-0c51-4b63-b40c-b68dfb0d228f",
   "metadata": {},
   "source": [
    "## Analysis Result"
   ]
  },
  {
   "cell_type": "code",
   "execution_count": 5,
   "id": "b21fd3a0-9dea-429f-9575-42ea69793983",
   "metadata": {},
   "outputs": [
    {
     "name": "stdout",
     "output_type": "stream",
     "text": [
      "                                              prefill                                               \n",
      "-----  ------  --------  ---------  ------------  ----------  ----------  --------------  ------  ------\n",
      "Input  Output  DataType  BatchSize  LayerName     NumOps(e9)  Memory(GB)  TopsRF(TFlops)  AI      Bound\n",
      "128    128     bf16      1          qkvo_proj     17.18       0.13        269.85          120.47  memory\n",
      "128    128     bf16      1          q@k_T         0.13        0.0         127.43          56.89   memory\n",
      "128    128     bf16      1          softmax       0.0         0.0         2.8             1.25    memory\n",
      "128    128     bf16      1          score@v       0.13        0.0         127.43          56.89   memory\n",
      "128    128     bf16      1          mlp_up(w1)    15.03       0.11        275.64          123.06  memory\n",
      "128    128     bf16      1          mlp_down(w2)  15.03       0.11        275.64          123.06  memory\n",
      "128    128     bf16      1          mlp_gate(w3)  15.03       0.11        275.64          123.06  memory\n",
      "-----  ------  --------  ---------  ------------  ----------  ----------  --------------  ------  ------\n",
      "                                               decode                                               \n",
      "-----  ------  --------  ---------  ------------  ----------  ----------  --------------  ----  -------\n",
      "Input  Output  DataType  BatchSize  LayerName     NumOps(e9)  Memory(GB)  TopsRF(TFlops)  AI    Bound\n",
      "128    128     bf16      1          qkvo_proj     0.13        0.13        2.24            1.0   memory\n",
      "128    128     bf16      1          q@k_T         0.0         0.0         2.24            3.76  compute\n",
      "128    128     bf16      1          softmax       0.0         0.0         2.8             1.25  compute\n",
      "128    128     bf16      1          score@v       0.0         0.0         2.24            3.76  memory\n",
      "128    128     bf16      1          mlp_up(w1)    0.12        0.11        2.24            1.0   memory\n",
      "128    128     bf16      1          mlp_down(w2)  0.12        0.11        2.24            1.0   memory\n",
      "128    128     bf16      1          mlp_gate(w3)  0.12        0.11        2.24            1.0   memory\n",
      "-----  ------  --------  ---------  ------------  ----------  ----------  --------------  ----  -------\n",
      "\n",
      "\n",
      "\n",
      "                                              prefill                                               \n",
      "-----  ------  --------  ---------  ------------  ----------  ----------  --------------  -------  -------\n",
      "Input  Output  DataType  BatchSize  LayerName     NumOps(e9)  Memory(GB)  TopsRF(TFlops)  AI       Bound\n",
      "128    128     bf16      512        qkvo_proj     8796.09     4.12        287.0           1985.94  compute\n",
      "128    128     bf16      512        q@k_T         68.72       1.12        127.43          56.89    memory\n",
      "128    128     bf16      512        softmax       1.34        1.0         2.8             1.25     memory\n",
      "128    128     bf16      512        score@v       68.72       1.12        127.43          56.89    memory\n",
      "128    128     bf16      512        mlp_up(w1)    7696.58     2.36        287.0           3038.09  compute\n",
      "128    128     bf16      512        mlp_down(w2)  7696.58     2.36        287.0           3038.09  compute\n",
      "128    128     bf16      512        mlp_gate(w3)  7696.58     2.36        287.0           3038.09  compute\n",
      "-----  ------  --------  ---------  ------------  ----------  ----------  --------------  -------  -------\n",
      "                                               decode                                               \n",
      "-----  ------  --------  ---------  ------------  ----------  ----------  --------------  ------  -------\n",
      "Input  Output  DataType  BatchSize  LayerName     NumOps(e9)  Memory(GB)  TopsRF(TFlops)  AI      Bound\n",
      "128    128     bf16      512        qkvo_proj     68.72       0.16        287.0           409.6   compute\n",
      "128    128     bf16      512        q@k_T         0.54        0.13        8.43            3.76    compute\n",
      "128    128     bf16      512        softmax       0.01        0.01        2.8             1.25    compute\n",
      "128    128     bf16      512        score@v       0.54        0.13        8.43            3.76    memory\n",
      "128    128     bf16      512        mlp_up(w1)    60.13       0.13        287.0           441.11  compute\n",
      "128    128     bf16      512        mlp_down(w2)  60.13       0.13        287.0           441.11  compute\n",
      "128    128     bf16      512        mlp_gate(w3)  60.13       0.13        287.0           441.11  compute\n",
      "-----  ------  --------  ---------  ------------  ----------  ----------  --------------  ------  -------\n",
      "\n",
      "\n",
      "\n",
      "                                              prefill                                               \n",
      "-----  ------  --------  ---------  ------------  ----------  ----------  --------------  ------  ------\n",
      "Input  Output  DataType  BatchSize  LayerName     NumOps(e9)  Memory(GB)  TopsRF(TFlops)  AI      Bound\n",
      "128    128     fp8       1          qkvo_proj     17.18       0.07        539.71          240.94  memory\n",
      "128    128     fp8       1          q@k_T         0.13        0.0         254.86          113.78  memory\n",
      "128    128     fp8       1          softmax       0.0         0.0         5.6             2.5     memory\n",
      "128    128     fp8       1          score@v       0.13        0.0         254.86          113.78  memory\n",
      "128    128     fp8       1          mlp_up(w1)    15.03       0.06        551.29          246.11  memory\n",
      "128    128     fp8       1          mlp_down(w2)  15.03       0.06        551.29          246.11  memory\n",
      "128    128     fp8       1          mlp_gate(w3)  15.03       0.06        551.29          246.11  memory\n",
      "-----  ------  --------  ---------  ------------  ----------  ----------  --------------  ------  ------\n",
      "                                               decode                                               \n",
      "-----  ------  --------  ---------  ------------  ----------  ----------  --------------  ----  -------\n",
      "Input  Output  DataType  BatchSize  LayerName     NumOps(e9)  Memory(GB)  TopsRF(TFlops)  AI    Bound\n",
      "128    128     fp8       1          qkvo_proj     0.13        0.06        4.48            2.0   memory\n",
      "128    128     fp8       1          q@k_T         0.0         0.0         4.48            7.53  compute\n",
      "128    128     fp8       1          softmax       0.0         0.0         5.6             2.5   compute\n",
      "128    128     fp8       1          score@v       0.0         0.0         4.48            7.53  memory\n",
      "128    128     fp8       1          mlp_up(w1)    0.12        0.05        4.48            2.0   memory\n",
      "128    128     fp8       1          mlp_down(w2)  0.12        0.05        4.48            2.0   memory\n",
      "128    128     fp8       1          mlp_gate(w3)  0.12        0.05        4.48            2.0   memory\n",
      "-----  ------  --------  ---------  ------------  ----------  ----------  --------------  ----  -------\n",
      "\n",
      "\n",
      "\n",
      "                                              prefill                                               \n",
      "-----  ------  --------  ---------  ------------  ----------  ----------  --------------  -------  -------\n",
      "Input  Output  DataType  BatchSize  LayerName     NumOps(e9)  Memory(GB)  TopsRF(TFlops)  AI       Bound\n",
      "128    128     fp8       512        qkvo_proj     8796.09     2.06        574.0           3971.88  compute\n",
      "128    128     fp8       512        q@k_T         68.72       0.56        254.86          113.78   memory\n",
      "128    128     fp8       512        softmax       1.34        0.5         5.6             2.5      memory\n",
      "128    128     fp8       512        score@v       68.72       0.56        254.86          113.78   memory\n",
      "128    128     fp8       512        mlp_up(w1)    7696.58     1.18        574.0           6076.19  compute\n",
      "128    128     fp8       512        mlp_down(w2)  7696.58     1.18        574.0           6076.19  compute\n",
      "128    128     fp8       512        mlp_gate(w3)  7696.58     1.18        574.0           6076.19  compute\n",
      "-----  ------  --------  ---------  ------------  ----------  ----------  --------------  -------  -------\n",
      "                                               decode                                               \n",
      "-----  ------  --------  ---------  ------------  ----------  ----------  --------------  ------  -------\n",
      "Input  Output  DataType  BatchSize  LayerName     NumOps(e9)  Memory(GB)  TopsRF(TFlops)  AI      Bound\n",
      "128    128     fp8       512        qkvo_proj     68.72       0.08        574.0           819.2   compute\n",
      "128    128     fp8       512        q@k_T         0.54        0.07        16.87           7.53    compute\n",
      "128    128     fp8       512        softmax       0.01        0.0         5.6             2.5     compute\n",
      "128    128     fp8       512        score@v       0.54        0.07        16.87           7.53    memory\n",
      "128    128     fp8       512        mlp_up(w1)    60.13       0.06        574.0           882.22  compute\n",
      "128    128     fp8       512        mlp_down(w2)  60.13       0.06        574.0           882.22  compute\n",
      "128    128     fp8       512        mlp_gate(w3)  60.13       0.06        574.0           882.22  compute\n",
      "-----  ------  --------  ---------  ------------  ----------  ----------  --------------  ------  -------\n",
      "\n",
      "\n",
      "\n"
     ]
    }
   ],
   "source": [
    "print_analysis(analysis_dict, batchsize_list)"
   ]
  },
  {
   "cell_type": "markdown",
   "id": "8a96af8e-511f-408f-8ebc-c2c965ebcd8a",
   "metadata": {},
   "source": [
    "## Memory Analysis"
   ]
  },
  {
   "cell_type": "code",
   "execution_count": 6,
   "id": "42ac56c9-464d-442b-90a8-c0e6f4f47831",
   "metadata": {},
   "outputs": [
    {
     "name": "stdout",
     "output_type": "stream",
     "text": [
      "memory usage with dtype[bf16], device [Gaudi2C] with seq_len: [{'in': 4096, 'out': 1}] and bs [1, 2, 4, 8, 16, 32, 64, 128]...\n"
     ]
    },
    {
     "name": "stderr",
     "output_type": "stream",
     "text": [
      "100%|██████████████████████████████████████████████████████████████████████████████████████████████████████| 8/8 [00:00<00:00, 62718.56it/s]\n"
     ]
    },
    {
     "name": "stdout",
     "output_type": "stream",
     "text": [
      "done!\n",
      "\n",
      "memory usage with dtype[bf16], device [Gaudi2C] with seq_len: [{'in': 4096, 'out': 1}] and bs [1, 2, 4, 8, 16, 32, 64, 128]...\n"
     ]
    },
    {
     "name": "stderr",
     "output_type": "stream",
     "text": [
      "100%|██████████████████████████████████████████████████████████████████████████████████████████████████████| 8/8 [00:00<00:00, 76608.29it/s]\n"
     ]
    },
    {
     "name": "stdout",
     "output_type": "stream",
     "text": [
      "done!\n",
      "\n",
      "memory usage with dtype[bf16], device [Gaudi2C] with seq_len: [{'in': 4096, 'out': 1}] and bs [1, 2, 4, 8, 16, 32, 64, 128]...\n"
     ]
    },
    {
     "name": "stderr",
     "output_type": "stream",
     "text": [
      "100%|██████████████████████████████████████████████████████████████████████████████████████████████████████| 8/8 [00:00<00:00, 76959.71it/s]\n"
     ]
    },
    {
     "name": "stdout",
     "output_type": "stream",
     "text": [
      "done!\n",
      "\n",
      "memory usage with dtype[bf16], device [Gaudi2C] with seq_len: [{'in': 4096, 'out': 1}] and bs [1, 2, 4, 8, 16, 32, 64, 128]...\n"
     ]
    },
    {
     "name": "stderr",
     "output_type": "stream",
     "text": [
      "100%|██████████████████████████████████████████████████████████████████████████████████████████████████████| 8/8 [00:00<00:00, 79891.50it/s]"
     ]
    },
    {
     "name": "stdout",
     "output_type": "stream",
     "text": [
      "done!\n",
      "\n",
      "-------  -------  ------  ----  ---  -----  ---  ---------  ----------\n",
      "Device   Devices  Layers  In    Out  DType  BS   Total(GB)  Fit2Device\n",
      "Gaudi2C  1        32      4096  1    bf16   1    89.0       True\n",
      "Gaudi2C  1        32      4096  1    bf16   2    90.0       True\n",
      "Gaudi2C  1        32      4096  1    bf16   4    92.0       True\n",
      "Gaudi2C  1        32      4096  1    bf16   8    96.0       False\n",
      "Gaudi2C  1        32      4096  1    bf16   16   104.0      False\n",
      "Gaudi2C  1        32      4096  1    bf16   32   120.0      False\n",
      "Gaudi2C  1        32      4096  1    bf16   64   152.0      False\n",
      "Gaudi2C  1        32      4096  1    bf16   128  216.0      False\n",
      "-------  -------  ------  ----  ---  -----  ---  ---------  ----------\n",
      "\n",
      "\n",
      "-------  -------  ------  ----  ---  -----  ---  ---------  ----------\n",
      "Device   Devices  Layers  In    Out  DType  BS   Total(GB)  Fit2Device\n",
      "Gaudi2C  2        32      4096  1    bf16   1    44.5       True\n",
      "Gaudi2C  2        32      4096  1    bf16   2    45.0       True\n",
      "Gaudi2C  2        32      4096  1    bf16   4    46.0       True\n",
      "Gaudi2C  2        32      4096  1    bf16   8    48.0       True\n",
      "Gaudi2C  2        32      4096  1    bf16   16   52.0       True\n",
      "Gaudi2C  2        32      4096  1    bf16   32   60.0       True\n",
      "Gaudi2C  2        32      4096  1    bf16   64   76.0       True\n",
      "Gaudi2C  2        32      4096  1    bf16   128  108.0      False\n",
      "-------  -------  ------  ----  ---  -----  ---  ---------  ----------\n",
      "\n",
      "\n",
      "-------  -------  ------  ----  ---  -----  ---  ---------  ----------\n",
      "Device   Devices  Layers  In    Out  DType  BS   Total(GB)  Fit2Device\n",
      "Gaudi2C  4        32      4096  1    bf16   1    22.25      True\n",
      "Gaudi2C  4        32      4096  1    bf16   2    22.5       True\n",
      "Gaudi2C  4        32      4096  1    bf16   4    23.0       True\n",
      "Gaudi2C  4        32      4096  1    bf16   8    24.0       True\n",
      "Gaudi2C  4        32      4096  1    bf16   16   26.0       True\n",
      "Gaudi2C  4        32      4096  1    bf16   32   30.0       True\n",
      "Gaudi2C  4        32      4096  1    bf16   64   38.0       True\n",
      "Gaudi2C  4        32      4096  1    bf16   128  54.0       True\n",
      "-------  -------  ------  ----  ---  -----  ---  ---------  ----------\n",
      "\n",
      "\n",
      "-------  -------  ------  ----  ---  -----  ---  ---------  ----------\n",
      "Device   Devices  Layers  In    Out  DType  BS   Total(GB)  Fit2Device\n",
      "Gaudi2C  8        32      4096  1    bf16   1    11.12      True\n",
      "Gaudi2C  8        32      4096  1    bf16   2    11.25      True\n",
      "Gaudi2C  8        32      4096  1    bf16   4    11.5       True\n",
      "Gaudi2C  8        32      4096  1    bf16   8    12.0       True\n",
      "Gaudi2C  8        32      4096  1    bf16   16   13.0       True\n",
      "Gaudi2C  8        32      4096  1    bf16   32   15.0       True\n",
      "Gaudi2C  8        32      4096  1    bf16   64   19.0       True\n",
      "Gaudi2C  8        32      4096  1    bf16   128  27.0       True\n",
      "-------  -------  ------  ----  ---  -----  ---  ---------  ----------\n",
      "\n",
      "\n"
     ]
    },
    {
     "name": "stderr",
     "output_type": "stream",
     "text": [
      "\n"
     ]
    }
   ],
   "source": [
    "memory_analyzer()"
   ]
  },
  {
   "cell_type": "code",
   "execution_count": null,
   "id": "da7875ab-21d3-4bad-9c61-8169490a0468",
   "metadata": {},
   "outputs": [],
   "source": []
  }
 ],
 "metadata": {
  "kernelspec": {
   "display_name": "Python 3 (ipykernel)",
   "language": "python",
   "name": "python3"
  },
  "language_info": {
   "codemirror_mode": {
    "name": "ipython",
    "version": 3
   },
   "file_extension": ".py",
   "mimetype": "text/x-python",
   "name": "python",
   "nbconvert_exporter": "python",
   "pygments_lexer": "ipython3",
   "version": "3.10.12"
  }
 },
 "nbformat": 4,
 "nbformat_minor": 5
}
